{
  "cells": [
    {
      "cell_type": "markdown",
      "metadata": {
        "id": "jri-7jP2y0gw"
      },
      "source": [
        "記得要先把資料集上傳到Colab才能正常執行!"
      ]
    },
    {
      "cell_type": "code",
      "execution_count": 26,
      "metadata": {
        "colab": {
          "base_uri": "https://localhost:8080/",
          "height": 782
        },
        "id": "0Sirldf0qqLu",
        "outputId": "377e44e2-1a47-4231-9a73-da0e682ee8aa"
      },
      "outputs": [],
      "source": [
        "import pandas as pd\r\n",
        "data = pd.read_csv('dataset/join_database_w_definitions.csv',skiprows=3) #載入資料並省略前三列標頭"
      ]
    },
    {
      "cell_type": "code",
      "execution_count": 27,
      "metadata": {
        "colab": {
          "base_uri": "https://localhost:8080/"
        },
        "id": "sxJMhmuztVvc",
        "outputId": "5bf502d3-b9c6-4bfb-c919-744ede2476e3"
      },
      "outputs": [
        {
          "data": {
            "text/plain": "array(['Country Name', 'Country Code', 'Region Code', 'Subsample',\n       'Income Level Name', 'Income Level Code', 'Year of survey',\n       'Survey Data Source', 'Survey Type', 'Total population',\n       'Children, aged 0-14', 'Youth, aged 15-24', 'Adult, aged 25-64',\n       'Elderly, aged 65+', 'Urban Population (% of total Population)',\n       ' Working Age Population, aged 15-64 (% of total Pop.)',\n       'Dependency Rate, all compared to 15-64',\n       'Youth Dependency Rate, younger than 15 compared to 15-64',\n       'Old Age Dependency Rate, older than 64 compared to 15-64',\n       'Labor Force, aged 15-64',\n       'Labor Force Participation Rate, aged 15-64',\n       'Female Labor Force Participation Rate, aged 15-64',\n       'Not in labor force or education rate among youth, aged 15-24',\n       'Share of workers (aged 15-64) with more than one jobs in last week',\n       'Employment to Population Ratio, aged 15-64',\n       'Employment Rate, aged 15-64 ', 'Unemployment Rate, aged 15-64',\n       'Youth Employment Rate, aged 15-24',\n       'Youth Unemployment Rate, aged 15-24',\n       'Wage employees, aged 15-64 ', 'Self-employed, aged 15-64',\n       'Unpaid, aged 15-64', 'Employers, aged 15-64',\n       'Unpaid or Self-employed, age 15-64',\n       'Share of informal jobs, aged 15-64', 'Share of work contract',\n       'Share of health insurance', 'Share of social security',\n       'Public sector employment, aged 15-64', ' Agriculture, aged 15-64',\n       ' Industry, aged 15-64', ' Services, aged 15-64',\n       'Mining, aged 15-64', 'Manufacturing, aged 15-64',\n       'Electricity and utilities, aged 15-64',\n       'Construction, aged 15-64', 'Commerce, aged 15-64',\n       'Transport & Communication, aged 15-64',\n       'Financial and Business Services, aged 15-64',\n       'Public Administration, aged 15-64', 'Other services, aged 15-64',\n       ' Female in non-agricultural employment, aged 15-64',\n       'Youth in non-agricultural employment, aged 15-64',\n       'Non-Agricultural wage employment, aged 15-64',\n       'Non-Agricultural unpaid employment, aged 15-64',\n       'Non-Agricultural employer, aged 15-64',\n       'Non-Agricultural self-employed, aged 15-64',\n       'Youth Non-Agricultural wage employment, aged 15-24',\n       'Wage employment in agriculture, aged 15-64',\n       'Wage employment in industry, aged 15-64',\n       'Wage employment in services, aged 15-64',\n       ' Senior Officials, aged 15-64', ' Professionals, aged 15-64',\n       ' Technicians, aged 15-64', ' Clerks, aged 15-64',\n       ' Service and Market Sales, aged 15-64',\n       ' Skilled Agriculture, aged 15-64', ' Craft Workers, aged 15-64',\n       ' Machine Operators, aged 15-64',\n       ' Elementary Occupations, aged 15-64', ' Armed Forces',\n       'Average weekly working hours',\n       'Underemployment, <35 hours per week',\n       'Excessive working hours,>48 hours per week',\n       'Median Earnings for wage workers per hour, local nominal currency',\n       'Median Earnings for wage workers per month, local nominal currency',\n       'Median Earnings for wage workers per month in agriculture, local nominal currenc',\n       'Median Earnings for wage workers per month in industry, local nominal currency',\n       'Median Earnings for wage workers per month in service, local nominal currency',\n       'Median Earnings for wage workers per hour,  deflated to 2011 local currency valu',\n       'Real Median Hourly  Wages in USD (base 2011), PPP adjusted',\n       'Median Earnings for wage workers per month, deflated to 2011 local currency valu',\n       'Real Median Monthly Wages in USD (base 2011), PPP adjusted',\n       'Female to Male gender wage gap, calculated with median wages',\n       'Public to Private wage gap, calculated with median wages',\n       ' No Education', ' Primary Education', ' Secondary Education',\n       ' Post Secondary Education',\n       'Mean number of years of education completed, aged 17 and older',\n       'Enrollment rate for individuals aged 6-16', 'Individual age',\n       'Mean age of worker between 15-64',\n       'Mean age of worker in agriculture, between 15-64',\n       'Mean age of worker in industry, between 15-64',\n       'Mean age of worker in services, between 15-64',\n       'Mean age of wage worker, between 15-64',\n       'Mean age of self-employed or unpaid worker, between 15-64',\n       'Mean age of employer, between 15-64', 'Total flags in survey',\n       'Percentile (100 = max), total flags',\n       'Flags over max number of flags',\n       'Percentile (100 = max), share of flags', 'Unnamed: 103',\n       'Unnamed: 104', 'Unnamed: 105', 'Unnamed: 106', 'Unnamed: 107',\n       'Unnamed: 108', 'Unnamed: 109', 'Unnamed: 110', 'Unnamed: 111',\n       'Unnamed: 112', 'Unnamed: 113', 'Unnamed: 114', 'Unnamed: 115',\n       'Unnamed: 116', 'Unnamed: 117', 'Unnamed: 118', 'Unnamed: 119',\n       'Unnamed: 120', 'Unnamed: 121', 'Unnamed: 122', 'Unnamed: 123',\n       'Unnamed: 124', 'Unnamed: 125', 'Unnamed: 126', 'Unnamed: 127',\n       'Unnamed: 128', 'Unnamed: 129'], dtype=object)"
          },
          "execution_count": 27,
          "metadata": {},
          "output_type": "execute_result"
        }
      ],
      "source": [
        "data.columns.values #所有column的名稱"
      ]
    },
    {
      "cell_type": "code",
      "execution_count": 28,
      "metadata": {
        "id": "rtS1ZtN_tizJ"
      },
      "outputs": [],
      "source": [
        "for column_name in data.columns.values: #移除不必要的column\n",
        "  if(column_name.startswith('Unnamed:')):\n",
        "    data.drop(column_name,axis=1,inplace=True)"
      ]
    },
    {
      "cell_type": "code",
      "execution_count": 29,
      "metadata": {
        "colab": {
          "base_uri": "https://localhost:8080/"
        },
        "id": "_epeLOqUvCQj",
        "outputId": "53319ed5-ab73-4e87-c614-4834ae0a4fee"
      },
      "outputs": [
        {
          "data": {
            "text/plain": "Subsample\nAll               1790\nFemale            1671\nHigh Education    1573\nLow Education     1619\nMale              1671\nOld               1669\nRural             1467\nUrban             1499\nYoung             1669\ndtype: int64"
          },
          "execution_count": 29,
          "metadata": {},
          "output_type": "execute_result"
        }
      ],
      "source": [
        "data.groupby('Subsample').size() #各種取樣的資料量分布"
      ]
    },
    {
      "cell_type": "code",
      "execution_count": 86,
      "metadata": {
        "id": "L_OFcsoaxA55"
      },
      "outputs": [],
      "source": [
        "#僅保留全部取樣的資料\r\n",
        "data_all = data[data['Subsample']==\"All\"].copy(deep=True) \r\n",
        "data_all.to_csv('dataset/join_database_all.csv')\r\n",
        "#依照性別(男性、女性)取樣\r\n",
        "data_F = data[data['Subsample']==\"Female\"].copy(deep=True) #僅保留女性取樣的資料\r\n",
        "data_M = data[data['Subsample']==\"Male\"].copy(deep=True) #僅保留男性取樣的資料\r\n",
        "data_Gender = pd.concat([data_F,data_M])\r\n",
        "data_Gender.reset_index(inplace=True)\r\n",
        "data_Gender.drop(['index'],axis=1,inplace=True)\r\n",
        "data_Gender.to_csv('dataset/join_database_gender.csv')\r\n",
        "#依照教育程度(高、低)取樣\r\n",
        "data_Urban = data[data['Subsample']==\"Urban\"].copy(deep=True) #僅保留高教育程度取樣的資料\r\n",
        "data_Rural = data[data['Subsample']==\"Rural\"].copy(deep=True) #僅保留低教育程度取樣的資料\r\n",
        "data_Location = pd.concat([data_Urban,data_Rural])\r\n",
        "data_Location.reset_index(inplace=True)\r\n",
        "data_Location.drop(['index'],axis=1,inplace=True)\r\n",
        "data_Location.to_csv('dataset/join_database_location.csv')\r\n",
        "#依照居住地區(城市、鄉村)取樣\r\n",
        "data_HighEDU = data[data['Subsample']==\"High Education\"].copy(deep=True) #僅保留城市地區取樣的資料\r\n",
        "data_LowEDU = data[data['Subsample']==\"Low Education\"].copy(deep=True) #僅保留鄉村地區取樣的資料\r\n",
        "data_EDU = pd.concat([data_HighEDU,data_LowEDU])\r\n",
        "data_EDU.reset_index(inplace=True)\r\n",
        "data_EDU.drop(['index'],axis=1,inplace=True)\r\n",
        "data_EDU.to_csv('dataset/join_database_education.csv')"
      ]
    },
    {
      "cell_type": "code",
      "execution_count": 31,
      "metadata": {
        "colab": {
          "base_uri": "https://localhost:8080/",
          "height": 938
        },
        "id": "9LQ2PY0TzYhf",
        "outputId": "7241a45e-8ae3-42ab-edbd-63dae7b1fcd1"
      },
      "outputs": [
        {
          "data": {
            "text/html": "<div>\n<style scoped>\n    .dataframe tbody tr th:only-of-type {\n        vertical-align: middle;\n    }\n\n    .dataframe tbody tr th {\n        vertical-align: top;\n    }\n\n    .dataframe thead th {\n        text-align: right;\n    }\n</style>\n<table border=\"1\" class=\"dataframe\">\n  <thead>\n    <tr style=\"text-align: right;\">\n      <th></th>\n      <th>Country Name</th>\n      <th>Country Code</th>\n      <th>Region Code</th>\n      <th>Subsample</th>\n      <th>Income Level Name</th>\n      <th>Income Level Code</th>\n      <th>Year of survey</th>\n      <th>Survey Data Source</th>\n      <th>Survey Type</th>\n      <th>Total population</th>\n      <th>...</th>\n      <th>Mean age of worker in agriculture, between 15-64</th>\n      <th>Mean age of worker in industry, between 15-64</th>\n      <th>Mean age of worker in services, between 15-64</th>\n      <th>Mean age of wage worker, between 15-64</th>\n      <th>Mean age of self-employed or unpaid worker, between 15-64</th>\n      <th>Mean age of employer, between 15-64</th>\n      <th>Total flags in survey</th>\n      <th>Percentile (100 = max), total flags</th>\n      <th>Flags over max number of flags</th>\n      <th>Percentile (100 = max), share of flags</th>\n    </tr>\n  </thead>\n  <tbody>\n    <tr>\n      <th>0</th>\n      <td>Bulgaria</td>\n      <td>BGR</td>\n      <td>ECS</td>\n      <td>Female</td>\n      <td>Upper middle income</td>\n      <td>UMC</td>\n      <td>2009</td>\n      <td>BGR_2009_I2D2_EUROSILC.dta</td>\n      <td>I2D2</td>\n      <td>3925271</td>\n      <td>...</td>\n      <td>43.66</td>\n      <td>41.66</td>\n      <td>41.69</td>\n      <td>41.53</td>\n      <td>45.06</td>\n      <td>41.85</td>\n      <td>58.0</td>\n      <td>46.0</td>\n      <td>0.05</td>\n      <td>41.0</td>\n    </tr>\n    <tr>\n      <th>1</th>\n      <td>Bulgaria</td>\n      <td>BGR</td>\n      <td>ECS</td>\n      <td>Female</td>\n      <td>Upper middle income</td>\n      <td>UMC</td>\n      <td>2010</td>\n      <td>BGR_2010_I2D2_EUROSILC.dta</td>\n      <td>I2D2</td>\n      <td>3904399</td>\n      <td>...</td>\n      <td>44.92</td>\n      <td>42.01</td>\n      <td>42.13</td>\n      <td>41.96</td>\n      <td>45.88</td>\n      <td>42.98</td>\n      <td>57.0</td>\n      <td>45.0</td>\n      <td>0.05</td>\n      <td>39.0</td>\n    </tr>\n    <tr>\n      <th>2</th>\n      <td>Bulgaria</td>\n      <td>BGR</td>\n      <td>ECS</td>\n      <td>Female</td>\n      <td>Upper middle income</td>\n      <td>UMC</td>\n      <td>2011</td>\n      <td>BGR_2011_I2D2_EUROSILC.dta</td>\n      <td>I2D2</td>\n      <td>3883330</td>\n      <td>...</td>\n      <td>45.98</td>\n      <td>42.16</td>\n      <td>42.28</td>\n      <td>42.23</td>\n      <td>45.06</td>\n      <td>45.30</td>\n      <td>50.0</td>\n      <td>34.0</td>\n      <td>0.04</td>\n      <td>32.0</td>\n    </tr>\n    <tr>\n      <th>3</th>\n      <td>Bulgaria</td>\n      <td>BGR</td>\n      <td>ECS</td>\n      <td>Female</td>\n      <td>Upper middle income</td>\n      <td>UMC</td>\n      <td>2012</td>\n      <td>BGR_2012_I2D2_EUROSILC.dta</td>\n      <td>I2D2</td>\n      <td>3770787</td>\n      <td>...</td>\n      <td>44.73</td>\n      <td>42.49</td>\n      <td>43.03</td>\n      <td>42.83</td>\n      <td>45.73</td>\n      <td>43.11</td>\n      <td>55.0</td>\n      <td>42.0</td>\n      <td>0.05</td>\n      <td>39.0</td>\n    </tr>\n    <tr>\n      <th>4</th>\n      <td>Bulgaria</td>\n      <td>BGR</td>\n      <td>ECS</td>\n      <td>Female</td>\n      <td>Upper middle income</td>\n      <td>UMC</td>\n      <td>2013</td>\n      <td>BGR_2013_I2D2_EUROSILC.dta</td>\n      <td>I2D2</td>\n      <td>3731765</td>\n      <td>...</td>\n      <td>45.64</td>\n      <td>42.81</td>\n      <td>43.00</td>\n      <td>42.92</td>\n      <td>45.20</td>\n      <td>45.68</td>\n      <td>54.0</td>\n      <td>40.0</td>\n      <td>0.05</td>\n      <td>38.0</td>\n    </tr>\n    <tr>\n      <th>...</th>\n      <td>...</td>\n      <td>...</td>\n      <td>...</td>\n      <td>...</td>\n      <td>...</td>\n      <td>...</td>\n      <td>...</td>\n      <td>...</td>\n      <td>...</td>\n      <td>...</td>\n      <td>...</td>\n      <td>...</td>\n      <td>...</td>\n      <td>...</td>\n      <td>...</td>\n      <td>...</td>\n      <td>...</td>\n      <td>...</td>\n      <td>...</td>\n      <td>...</td>\n      <td>...</td>\n    </tr>\n    <tr>\n      <th>3337</th>\n      <td>South Africa</td>\n      <td>ZAF</td>\n      <td>SSF</td>\n      <td>Male</td>\n      <td>Upper middle income</td>\n      <td>UMC</td>\n      <td>2018</td>\n      <td>zaf_2018_qlfs_v01_m_v06_a_gld_all.dta</td>\n      <td>qlfs</td>\n      <td>27688056</td>\n      <td>...</td>\n      <td>38.05</td>\n      <td>38.65</td>\n      <td>38.84</td>\n      <td>38.16</td>\n      <td>40.04</td>\n      <td>43.29</td>\n      <td>30.0</td>\n      <td>8.0</td>\n      <td>0.02</td>\n      <td>4.0</td>\n    </tr>\n    <tr>\n      <th>3338</th>\n      <td>South Africa</td>\n      <td>ZAF</td>\n      <td>SSF</td>\n      <td>Male</td>\n      <td>Upper middle income</td>\n      <td>UMC</td>\n      <td>2019</td>\n      <td>zaf_2019_qlfs_v01_m_v06_a_gld_all.dta</td>\n      <td>qlfs</td>\n      <td>28051696</td>\n      <td>...</td>\n      <td>38.38</td>\n      <td>39.00</td>\n      <td>39.04</td>\n      <td>38.42</td>\n      <td>40.30</td>\n      <td>43.19</td>\n      <td>30.0</td>\n      <td>8.0</td>\n      <td>0.02</td>\n      <td>4.0</td>\n    </tr>\n    <tr>\n      <th>3339</th>\n      <td>South Africa</td>\n      <td>ZAF</td>\n      <td>SSF</td>\n      <td>Male</td>\n      <td>Upper middle income</td>\n      <td>UMC</td>\n      <td>2020</td>\n      <td>zaf_2020_qlfs_v02_m_v05_a_gld_all.dta</td>\n      <td>qlfs</td>\n      <td>28415249</td>\n      <td>...</td>\n      <td>39.26</td>\n      <td>39.57</td>\n      <td>39.41</td>\n      <td>38.94</td>\n      <td>40.40</td>\n      <td>43.25</td>\n      <td>38.0</td>\n      <td>18.0</td>\n      <td>0.03</td>\n      <td>12.0</td>\n    </tr>\n    <tr>\n      <th>3340</th>\n      <td>Zambia</td>\n      <td>ZMB</td>\n      <td>SSF</td>\n      <td>Male</td>\n      <td>Lower middle income</td>\n      <td>LMC</td>\n      <td>2015</td>\n      <td>zmb_2015_lcms-vii_v01_m_v04_a_gmd.dta</td>\n      <td>lcms-</td>\n      <td>7490127</td>\n      <td>...</td>\n      <td>35.80</td>\n      <td>35.77</td>\n      <td>36.18</td>\n      <td>36.06</td>\n      <td>36.13</td>\n      <td>38.86</td>\n      <td>18.0</td>\n      <td>3.0</td>\n      <td>0.02</td>\n      <td>2.0</td>\n    </tr>\n    <tr>\n      <th>3341</th>\n      <td>Zimbabwe</td>\n      <td>ZWE</td>\n      <td>SSF</td>\n      <td>Male</td>\n      <td>Low income</td>\n      <td>LIC</td>\n      <td>2017</td>\n      <td>zwe_2017_pices_v01_m_v01_a_gmd.dta</td>\n      <td>pices</td>\n      <td>6239494</td>\n      <td>...</td>\n      <td>33.18</td>\n      <td>36.12</td>\n      <td>36.48</td>\n      <td>35.30</td>\n      <td>33.80</td>\n      <td>46.39</td>\n      <td>60.0</td>\n      <td>48.0</td>\n      <td>0.06</td>\n      <td>50.0</td>\n    </tr>\n  </tbody>\n</table>\n<p>3342 rows × 103 columns</p>\n</div>",
            "text/plain": "      Country Name Country Code Region Code Subsample    Income Level Name  \\\n0         Bulgaria          BGR         ECS    Female  Upper middle income   \n1         Bulgaria          BGR         ECS    Female  Upper middle income   \n2         Bulgaria          BGR         ECS    Female  Upper middle income   \n3         Bulgaria          BGR         ECS    Female  Upper middle income   \n4         Bulgaria          BGR         ECS    Female  Upper middle income   \n...            ...          ...         ...       ...                  ...   \n3337  South Africa          ZAF         SSF      Male  Upper middle income   \n3338  South Africa          ZAF         SSF      Male  Upper middle income   \n3339  South Africa          ZAF         SSF      Male  Upper middle income   \n3340        Zambia          ZMB         SSF      Male  Lower middle income   \n3341      Zimbabwe          ZWE         SSF      Male           Low income   \n\n     Income Level Code  Year of survey                     Survey Data Source  \\\n0                  UMC            2009             BGR_2009_I2D2_EUROSILC.dta   \n1                  UMC            2010             BGR_2010_I2D2_EUROSILC.dta   \n2                  UMC            2011             BGR_2011_I2D2_EUROSILC.dta   \n3                  UMC            2012             BGR_2012_I2D2_EUROSILC.dta   \n4                  UMC            2013             BGR_2013_I2D2_EUROSILC.dta   \n...                ...             ...                                    ...   \n3337               UMC            2018  zaf_2018_qlfs_v01_m_v06_a_gld_all.dta   \n3338               UMC            2019  zaf_2019_qlfs_v01_m_v06_a_gld_all.dta   \n3339               UMC            2020  zaf_2020_qlfs_v02_m_v05_a_gld_all.dta   \n3340               LMC            2015  zmb_2015_lcms-vii_v01_m_v04_a_gmd.dta   \n3341               LIC            2017     zwe_2017_pices_v01_m_v01_a_gmd.dta   \n\n     Survey Type  Total population  ...  \\\n0           I2D2           3925271  ...   \n1           I2D2           3904399  ...   \n2           I2D2           3883330  ...   \n3           I2D2           3770787  ...   \n4           I2D2           3731765  ...   \n...          ...               ...  ...   \n3337        qlfs          27688056  ...   \n3338        qlfs          28051696  ...   \n3339        qlfs          28415249  ...   \n3340       lcms-           7490127  ...   \n3341       pices           6239494  ...   \n\n      Mean age of worker in agriculture, between 15-64  \\\n0                                                43.66   \n1                                                44.92   \n2                                                45.98   \n3                                                44.73   \n4                                                45.64   \n...                                                ...   \n3337                                             38.05   \n3338                                             38.38   \n3339                                             39.26   \n3340                                             35.80   \n3341                                             33.18   \n\n      Mean age of worker in industry, between 15-64  \\\n0                                             41.66   \n1                                             42.01   \n2                                             42.16   \n3                                             42.49   \n4                                             42.81   \n...                                             ...   \n3337                                          38.65   \n3338                                          39.00   \n3339                                          39.57   \n3340                                          35.77   \n3341                                          36.12   \n\n      Mean age of worker in services, between 15-64  \\\n0                                             41.69   \n1                                             42.13   \n2                                             42.28   \n3                                             43.03   \n4                                             43.00   \n...                                             ...   \n3337                                          38.84   \n3338                                          39.04   \n3339                                          39.41   \n3340                                          36.18   \n3341                                          36.48   \n\n      Mean age of wage worker, between 15-64  \\\n0                                      41.53   \n1                                      41.96   \n2                                      42.23   \n3                                      42.83   \n4                                      42.92   \n...                                      ...   \n3337                                   38.16   \n3338                                   38.42   \n3339                                   38.94   \n3340                                   36.06   \n3341                                   35.30   \n\n      Mean age of self-employed or unpaid worker, between 15-64  \\\n0                                                 45.06           \n1                                                 45.88           \n2                                                 45.06           \n3                                                 45.73           \n4                                                 45.20           \n...                                                 ...           \n3337                                              40.04           \n3338                                              40.30           \n3339                                              40.40           \n3340                                              36.13           \n3341                                              33.80           \n\n      Mean age of employer, between 15-64  Total flags in survey  \\\n0                                   41.85                   58.0   \n1                                   42.98                   57.0   \n2                                   45.30                   50.0   \n3                                   43.11                   55.0   \n4                                   45.68                   54.0   \n...                                   ...                    ...   \n3337                                43.29                   30.0   \n3338                                43.19                   30.0   \n3339                                43.25                   38.0   \n3340                                38.86                   18.0   \n3341                                46.39                   60.0   \n\n      Percentile (100 = max), total flags  Flags over max number of flags  \\\n0                                    46.0                            0.05   \n1                                    45.0                            0.05   \n2                                    34.0                            0.04   \n3                                    42.0                            0.05   \n4                                    40.0                            0.05   \n...                                   ...                             ...   \n3337                                  8.0                            0.02   \n3338                                  8.0                            0.02   \n3339                                 18.0                            0.03   \n3340                                  3.0                            0.02   \n3341                                 48.0                            0.06   \n\n      Percentile (100 = max), share of flags  \n0                                       41.0  \n1                                       39.0  \n2                                       32.0  \n3                                       39.0  \n4                                       38.0  \n...                                      ...  \n3337                                     4.0  \n3338                                     4.0  \n3339                                    12.0  \n3340                                     2.0  \n3341                                    50.0  \n\n[3342 rows x 103 columns]"
          },
          "execution_count": 31,
          "metadata": {},
          "output_type": "execute_result"
        }
      ],
      "source": [
        "data_Gender"
      ]
    },
    {
      "cell_type": "code",
      "execution_count": 32,
      "metadata": {},
      "outputs": [
        {
          "data": {
            "text/plain": "Year of survey\n1970     3\n1974     1\n1980     4\n1981     2\n1982     2\n1983     4\n1984     3\n1985     5\n1986     6\n1987    10\n1988     7\n1989    10\n1990    10\n1991    14\n1992    17\n1993    20\n1994    18\n1995    23\n1996    23\n1997    31\n1998    46\n1999    47\n2000    53\n2001    58\n2002    63\n2003    71\n2004    73\n2005    89\n2006    74\n2007    79\n2008    75\n2009    87\n2010    85\n2011    86\n2012    85\n2013    86\n2014    82\n2015    83\n2016    77\n2017    49\n2018    51\n2019    40\n2020    23\n2021    15\ndtype: int64"
          },
          "execution_count": 32,
          "metadata": {},
          "output_type": "execute_result"
        }
      ],
      "source": [
        "data_all.groupby('Year of survey').size()"
      ]
    },
    {
      "cell_type": "code",
      "execution_count": 33,
      "metadata": {},
      "outputs": [
        {
          "data": {
            "text/plain": "0       1.638801e+08\n1       1.648828e+08\n2       1.647309e+08\n3       1.620684e+08\n4       1.602793e+08\n            ...     \n3337    1.072358e+09\n3338    1.093455e+09\n3339    1.120982e+09\n3340    2.682963e+08\n3341    2.086487e+08\nLength: 3342, dtype: float64"
          },
          "execution_count": 33,
          "metadata": {},
          "output_type": "execute_result"
        }
      ],
      "source": [
        "data_Gender[\"Mean age of worker between 15-64\"]*data_Gender[\"Total population\"]"
      ]
    },
    {
      "cell_type": "code",
      "execution_count": 88,
      "metadata": {},
      "outputs": [],
      "source": [
        "data_Gender[\"Mean age of worker between 15-64\"] = data_Gender[\"Mean age of worker between 15-64\"].fillna(0)"
      ]
    },
    {
      "cell_type": "code",
      "execution_count": 125,
      "metadata": {},
      "outputs": [],
      "source": [
        "meanAgeS = []\r\n",
        "for i in range(1992,2022,1):\r\n",
        "    total_population = data_Gender[(data_Gender[\"Year of survey\"] == i) & (data_Gender[\"Subsample\"] == \"Male\")][\"Total population\"]\r\n",
        "    meanAge = sum(data_Gender[(data_Gender[\"Year of survey\"] == i) & (data_Gender[\"Subsample\"] == \"Male\")]['Mean age of worker between 15-64'] * total_population)/sum(total_population)\r\n",
        "    meanAgeS.append(meanAge)\r\n",
        "new_gender_data_M = {\"year\": [year for year in range(1992,2022,1)], \"gender\": [\"Male\"]*30, \"mean_age\": meanAgeS}\r\n",
        "\r\n",
        "meanAgeS = []\r\n",
        "for i in range(1992,2022,1):\r\n",
        "    total_population = data_Gender[(data_Gender[\"Year of survey\"] == i) & (data_Gender[\"Subsample\"] == \"Female\")][\"Total population\"]\r\n",
        "    meanAge = sum(data_Gender[(data_Gender[\"Year of survey\"] == i) & (data_Gender[\"Subsample\"] == \"Female\")]['Mean age of worker between 15-64'] * total_population)/sum(total_population)\r\n",
        "    meanAgeS.append(meanAge)\r\n",
        "new_gender_data_F = {\"year\": [year for year in range(1992,2022,1)], \"gender\": [\"Female\"]*30, \"mean_age\": meanAgeS}"
      ]
    },
    {
      "cell_type": "code",
      "execution_count": 126,
      "metadata": {},
      "outputs": [],
      "source": [
        "dfM = pd.DataFrame(new_gender_data_M)\r\n",
        "dfF = pd.DataFrame(new_gender_data_F)\r\n",
        "new_gender_data = pd.concat([dfM,dfF],axis=0,ignore_index=True)\r\n",
        "new_gender_data.to_csv('cleanDataset/clean_gender.csv',index=False)"
      ]
    },
    {
      "cell_type": "code",
      "execution_count": 127,
      "metadata": {},
      "outputs": [
        {
          "data": {
            "text/html": "<div>\n<style scoped>\n    .dataframe tbody tr th:only-of-type {\n        vertical-align: middle;\n    }\n\n    .dataframe tbody tr th {\n        vertical-align: top;\n    }\n\n    .dataframe thead th {\n        text-align: right;\n    }\n</style>\n<table border=\"1\" class=\"dataframe\">\n  <thead>\n    <tr style=\"text-align: right;\">\n      <th></th>\n      <th>year</th>\n      <th>gender</th>\n      <th>mean_age</th>\n    </tr>\n  </thead>\n  <tbody>\n    <tr>\n      <th>0</th>\n      <td>1992</td>\n      <td>Male</td>\n      <td>34.605236</td>\n    </tr>\n    <tr>\n      <th>1</th>\n      <td>1993</td>\n      <td>Male</td>\n      <td>34.767036</td>\n    </tr>\n    <tr>\n      <th>2</th>\n      <td>1994</td>\n      <td>Male</td>\n      <td>35.384144</td>\n    </tr>\n    <tr>\n      <th>3</th>\n      <td>1995</td>\n      <td>Male</td>\n      <td>34.600461</td>\n    </tr>\n    <tr>\n      <th>4</th>\n      <td>1996</td>\n      <td>Male</td>\n      <td>34.880891</td>\n    </tr>\n    <tr>\n      <th>5</th>\n      <td>1997</td>\n      <td>Male</td>\n      <td>35.351492</td>\n    </tr>\n    <tr>\n      <th>6</th>\n      <td>1998</td>\n      <td>Male</td>\n      <td>35.079186</td>\n    </tr>\n    <tr>\n      <th>7</th>\n      <td>1999</td>\n      <td>Male</td>\n      <td>35.108182</td>\n    </tr>\n    <tr>\n      <th>8</th>\n      <td>2000</td>\n      <td>Male</td>\n      <td>36.626421</td>\n    </tr>\n    <tr>\n      <th>9</th>\n      <td>2001</td>\n      <td>Male</td>\n      <td>35.923230</td>\n    </tr>\n    <tr>\n      <th>10</th>\n      <td>2002</td>\n      <td>Male</td>\n      <td>38.157728</td>\n    </tr>\n    <tr>\n      <th>11</th>\n      <td>2003</td>\n      <td>Male</td>\n      <td>36.945808</td>\n    </tr>\n    <tr>\n      <th>12</th>\n      <td>2004</td>\n      <td>Male</td>\n      <td>36.335885</td>\n    </tr>\n    <tr>\n      <th>13</th>\n      <td>2005</td>\n      <td>Male</td>\n      <td>37.293326</td>\n    </tr>\n    <tr>\n      <th>14</th>\n      <td>2006</td>\n      <td>Male</td>\n      <td>37.263637</td>\n    </tr>\n    <tr>\n      <th>15</th>\n      <td>2007</td>\n      <td>Male</td>\n      <td>38.111679</td>\n    </tr>\n    <tr>\n      <th>16</th>\n      <td>2008</td>\n      <td>Male</td>\n      <td>37.716979</td>\n    </tr>\n    <tr>\n      <th>17</th>\n      <td>2009</td>\n      <td>Male</td>\n      <td>37.245791</td>\n    </tr>\n    <tr>\n      <th>18</th>\n      <td>2010</td>\n      <td>Male</td>\n      <td>39.444626</td>\n    </tr>\n    <tr>\n      <th>19</th>\n      <td>2011</td>\n      <td>Male</td>\n      <td>40.421550</td>\n    </tr>\n    <tr>\n      <th>20</th>\n      <td>2012</td>\n      <td>Male</td>\n      <td>40.320294</td>\n    </tr>\n    <tr>\n      <th>21</th>\n      <td>2013</td>\n      <td>Male</td>\n      <td>40.528499</td>\n    </tr>\n    <tr>\n      <th>22</th>\n      <td>2014</td>\n      <td>Male</td>\n      <td>38.317846</td>\n    </tr>\n    <tr>\n      <th>23</th>\n      <td>2015</td>\n      <td>Male</td>\n      <td>38.548168</td>\n    </tr>\n    <tr>\n      <th>24</th>\n      <td>2016</td>\n      <td>Male</td>\n      <td>38.311294</td>\n    </tr>\n    <tr>\n      <th>25</th>\n      <td>2017</td>\n      <td>Male</td>\n      <td>35.952474</td>\n    </tr>\n    <tr>\n      <th>26</th>\n      <td>2018</td>\n      <td>Male</td>\n      <td>36.002553</td>\n    </tr>\n    <tr>\n      <th>27</th>\n      <td>2019</td>\n      <td>Male</td>\n      <td>35.808253</td>\n    </tr>\n    <tr>\n      <th>28</th>\n      <td>2020</td>\n      <td>Male</td>\n      <td>35.783719</td>\n    </tr>\n    <tr>\n      <th>29</th>\n      <td>2021</td>\n      <td>Male</td>\n      <td>37.907309</td>\n    </tr>\n    <tr>\n      <th>30</th>\n      <td>1992</td>\n      <td>Female</td>\n      <td>34.030135</td>\n    </tr>\n    <tr>\n      <th>31</th>\n      <td>1993</td>\n      <td>Female</td>\n      <td>34.411072</td>\n    </tr>\n    <tr>\n      <th>32</th>\n      <td>1994</td>\n      <td>Female</td>\n      <td>34.606256</td>\n    </tr>\n    <tr>\n      <th>33</th>\n      <td>1995</td>\n      <td>Female</td>\n      <td>34.266532</td>\n    </tr>\n    <tr>\n      <th>34</th>\n      <td>1996</td>\n      <td>Female</td>\n      <td>34.536240</td>\n    </tr>\n    <tr>\n      <th>35</th>\n      <td>1997</td>\n      <td>Female</td>\n      <td>35.105599</td>\n    </tr>\n    <tr>\n      <th>36</th>\n      <td>1998</td>\n      <td>Female</td>\n      <td>34.816020</td>\n    </tr>\n    <tr>\n      <th>37</th>\n      <td>1999</td>\n      <td>Female</td>\n      <td>35.082829</td>\n    </tr>\n    <tr>\n      <th>38</th>\n      <td>2000</td>\n      <td>Female</td>\n      <td>36.494543</td>\n    </tr>\n    <tr>\n      <th>39</th>\n      <td>2001</td>\n      <td>Female</td>\n      <td>35.812400</td>\n    </tr>\n    <tr>\n      <th>40</th>\n      <td>2002</td>\n      <td>Female</td>\n      <td>37.014499</td>\n    </tr>\n    <tr>\n      <th>41</th>\n      <td>2003</td>\n      <td>Female</td>\n      <td>36.934769</td>\n    </tr>\n    <tr>\n      <th>42</th>\n      <td>2004</td>\n      <td>Female</td>\n      <td>36.354704</td>\n    </tr>\n    <tr>\n      <th>43</th>\n      <td>2005</td>\n      <td>Female</td>\n      <td>37.138411</td>\n    </tr>\n    <tr>\n      <th>44</th>\n      <td>2006</td>\n      <td>Female</td>\n      <td>37.321420</td>\n    </tr>\n    <tr>\n      <th>45</th>\n      <td>2007</td>\n      <td>Female</td>\n      <td>37.613728</td>\n    </tr>\n    <tr>\n      <th>46</th>\n      <td>2008</td>\n      <td>Female</td>\n      <td>37.722876</td>\n    </tr>\n    <tr>\n      <th>47</th>\n      <td>2009</td>\n      <td>Female</td>\n      <td>37.406002</td>\n    </tr>\n    <tr>\n      <th>48</th>\n      <td>2010</td>\n      <td>Female</td>\n      <td>38.666611</td>\n    </tr>\n    <tr>\n      <th>49</th>\n      <td>2011</td>\n      <td>Female</td>\n      <td>40.463722</td>\n    </tr>\n    <tr>\n      <th>50</th>\n      <td>2012</td>\n      <td>Female</td>\n      <td>40.470272</td>\n    </tr>\n    <tr>\n      <th>51</th>\n      <td>2013</td>\n      <td>Female</td>\n      <td>40.531714</td>\n    </tr>\n    <tr>\n      <th>52</th>\n      <td>2014</td>\n      <td>Female</td>\n      <td>38.318753</td>\n    </tr>\n    <tr>\n      <th>53</th>\n      <td>2015</td>\n      <td>Female</td>\n      <td>38.541875</td>\n    </tr>\n    <tr>\n      <th>54</th>\n      <td>2016</td>\n      <td>Female</td>\n      <td>38.281584</td>\n    </tr>\n    <tr>\n      <th>55</th>\n      <td>2017</td>\n      <td>Female</td>\n      <td>35.750219</td>\n    </tr>\n    <tr>\n      <th>56</th>\n      <td>2018</td>\n      <td>Female</td>\n      <td>35.913333</td>\n    </tr>\n    <tr>\n      <th>57</th>\n      <td>2019</td>\n      <td>Female</td>\n      <td>35.967275</td>\n    </tr>\n    <tr>\n      <th>58</th>\n      <td>2020</td>\n      <td>Female</td>\n      <td>35.648468</td>\n    </tr>\n    <tr>\n      <th>59</th>\n      <td>2021</td>\n      <td>Female</td>\n      <td>37.916731</td>\n    </tr>\n  </tbody>\n</table>\n</div>",
            "text/plain": "    year  gender   mean_age\n0   1992    Male  34.605236\n1   1993    Male  34.767036\n2   1994    Male  35.384144\n3   1995    Male  34.600461\n4   1996    Male  34.880891\n5   1997    Male  35.351492\n6   1998    Male  35.079186\n7   1999    Male  35.108182\n8   2000    Male  36.626421\n9   2001    Male  35.923230\n10  2002    Male  38.157728\n11  2003    Male  36.945808\n12  2004    Male  36.335885\n13  2005    Male  37.293326\n14  2006    Male  37.263637\n15  2007    Male  38.111679\n16  2008    Male  37.716979\n17  2009    Male  37.245791\n18  2010    Male  39.444626\n19  2011    Male  40.421550\n20  2012    Male  40.320294\n21  2013    Male  40.528499\n22  2014    Male  38.317846\n23  2015    Male  38.548168\n24  2016    Male  38.311294\n25  2017    Male  35.952474\n26  2018    Male  36.002553\n27  2019    Male  35.808253\n28  2020    Male  35.783719\n29  2021    Male  37.907309\n30  1992  Female  34.030135\n31  1993  Female  34.411072\n32  1994  Female  34.606256\n33  1995  Female  34.266532\n34  1996  Female  34.536240\n35  1997  Female  35.105599\n36  1998  Female  34.816020\n37  1999  Female  35.082829\n38  2000  Female  36.494543\n39  2001  Female  35.812400\n40  2002  Female  37.014499\n41  2003  Female  36.934769\n42  2004  Female  36.354704\n43  2005  Female  37.138411\n44  2006  Female  37.321420\n45  2007  Female  37.613728\n46  2008  Female  37.722876\n47  2009  Female  37.406002\n48  2010  Female  38.666611\n49  2011  Female  40.463722\n50  2012  Female  40.470272\n51  2013  Female  40.531714\n52  2014  Female  38.318753\n53  2015  Female  38.541875\n54  2016  Female  38.281584\n55  2017  Female  35.750219\n56  2018  Female  35.913333\n57  2019  Female  35.967275\n58  2020  Female  35.648468\n59  2021  Female  37.916731"
          },
          "execution_count": 127,
          "metadata": {},
          "output_type": "execute_result"
        }
      ],
      "source": [
        "new_gender_data "
      ]
    }
  ],
  "metadata": {
    "colab": {
      "provenance": []
    },
    "kernelspec": {
      "display_name": "Python 3.8.8 64-bit (conda)",
      "name": "python388jvsc74a57bd0b3ba2566441a7c06988d0923437866b63cedc61552a5af99d1f4fb67d367b25f"
    },
    "language_info": {
      "codemirror_mode": {
        "name": "ipython",
        "version": 3
      },
      "file_extension": ".py",
      "mimetype": "text/x-python",
      "name": "python",
      "nbconvert_exporter": "python",
      "pygments_lexer": "ipython3",
      "version": "3.8.8"
    }
  },
  "nbformat": 4,
  "nbformat_minor": 0
}